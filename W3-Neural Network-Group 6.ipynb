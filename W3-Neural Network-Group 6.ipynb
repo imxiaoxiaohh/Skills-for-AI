{
 "cells": [
  {
   "cell_type": "code",
   "execution_count": 1,
   "id": "e827503f-e7aa-4659-91c2-2dbfbf4ec698",
   "metadata": {},
   "outputs": [],
   "source": [
    "import numpy as np\n",
    "import math\n",
    "\n",
    "\n",
    "m = [0.99, 0.00, 0.00, 0.00, 0.99,\n",
    "     0.99, 0.99, 0.00, 0.99, 0.99,\n",
    "     0.99, 0.00, 0.99, 0.00, 0.99,\n",
    "     0.99, 0.00, 0.00, 0.00, 0.99,\n",
    "     0.99, 0.00, 0.00, 0.00, 0.99]\n",
    "\n",
    "x = [0.99, 0.00, 0.00, 0.00, 0.99, \n",
    "     0.00, 0.99, 0.00, 0.99, 0.00, \n",
    "     0.00, 0.00, 0.99, 0.00, 0.00, \n",
    "     0.00, 0.99, 0.00, 0.99, 0.00, \n",
    "     0.99, 0.00, 0.00, 0.00, 0.99]\n",
    "\n",
    "y = [0.99, 0.00, 0.00, 0.00, 0.99,\n",
    "     0.00, 0.99, 0.00, 0.99, 0.00,\n",
    "     0.00, 0.00, 0.99, 0.00, 0.00,\n",
    "     0.00, 0.00, 0.99, 0.00, 0.00,\n",
    "     0.00, 0.00, 0.99, 0.00, 0.00]\n",
    "\n"
   ]
  },
  {
   "cell_type": "code",
   "execution_count": 2,
   "id": "e97ab85a-4c90-4a9f-bfc3-a61f3bc22278",
   "metadata": {},
   "outputs": [],
   "source": [
    "def list_matrix(lis):\n",
    "    tem_lst = []\n",
    "    final_lst = []\n",
    "    num = 0\n",
    "    for i in lis:\n",
    "        tem_lst.append(i)\n",
    "        num +=1\n",
    "        if num == 5:\n",
    "            final_lst.append(tem_lst)\n",
    "            tem_lst = []\n",
    "            num = 0\n",
    "    return final_lst\n",
    "\n",
    "\n",
    "        "
   ]
  },
  {
   "cell_type": "code",
   "execution_count": 3,
   "id": "71611c96-991a-4426-a2c5-2df454dabb58",
   "metadata": {},
   "outputs": [],
   "source": [
    "def matrix_list(matrix):\n",
    "    final_lst = []\n",
    "    for item in matrix:\n",
    "        final_lst.extend(list(item))\n",
    "    return final_lst"
   ]
  },
  {
   "cell_type": "code",
   "execution_count": 4,
   "id": "0278b5d1-6117-4874-907d-728ccde83b84",
   "metadata": {},
   "outputs": [
    {
     "name": "stdout",
     "output_type": "stream",
     "text": [
      "[[0.99 0.   0.   0.   0.99]\n",
      " [0.99 0.99 0.   0.99 0.99]\n",
      " [0.99 0.   0.99 0.   0.99]\n",
      " [0.99 0.   0.   0.   0.99]\n",
      " [0.99 0.   0.   0.   0.99]]\n"
     ]
    }
   ],
   "source": [
    "blur = [[0.9,0.1,0,0,0],\n",
    "         [0.1,0.8,0.1,0,0],\n",
    "         [0,0.1,0.8,0.1,0],\n",
    "         [0,0,0.1,0.8,0.1],\n",
    "         [0,0,0,0.1,0.9]]\n",
    "\n",
    "brighten = [[0.8,0,0,0,0],\n",
    "            [0,0.8,0,0,0],\n",
    "            [0,0,0.8,0,0],\n",
    "            [0,0,0,0.8,0],\n",
    "            [0,0,0,0,0.8]]\n",
    "\n",
    "noise = [[0.9,0,0.05,0,0],\n",
    "        [0.05,0.9,0,0,0],\n",
    "        [0.1,0,0.9,0,0.05],\n",
    "        [0,0.05,0.1,0.9,0],\n",
    "        [0,0,0.05,0.05,0.90]]\n",
    "\n",
    "noise_and_blur = [[0.9,0.12,0,0,0.1],\n",
    "                 [0.2,0.7,0.2,0,0.05],\n",
    "                 [0,0.08,0.8,0.2,0],\n",
    "                 [0,0,0.1,0.8,0.2],\n",
    "                 [0.15,0.07,0,0.2,0.78]]\n",
    "\n",
    "m = list_matrix(m)\n",
    "x = list_matrix(x)\n",
    "y = list_matrix(y)\n",
    "\n",
    "m_array = np.array(m)\n",
    "x_array = np.array(x)\n",
    "y_array = np.array(y)\n",
    "\n",
    "\n",
    "blur_array = np.array(blur)\n",
    "brighten_array = np.array(brighten)\n",
    "noise_array = np.array(noise)\n",
    "noise_and_blur_array = np.array(noise_and_blur)\n",
    "\n",
    "print(m_array)\n",
    "\n",
    "\n",
    "\n",
    "vari_1_m = np.dot(m_array, blur_array)\n",
    "vari_2_m = np.dot(vari_1_m, brighten_array)\n",
    "vari_3_m = np.dot(vari_2_m, noise_array)\n",
    "vari_4_m = np.dot(vari_3_m, noise_and_blur_array)\n",
    "\n",
    "vari_1_x = np.dot(x_array, blur_array)\n",
    "vari_2_x = np.dot(vari_1_x, brighten_array)\n",
    "vari_3_x = np.dot(vari_2_x, noise_array)\n",
    "vari_4_x = np.dot(vari_3_x, noise_and_blur_array)\n",
    "\n",
    "vari_1_y = np.dot(y_array, blur_array)\n",
    "vari_2_y = np.dot(vari_1_y, brighten_array)\n",
    "vari_3_y = np.dot(vari_2_y, noise_array)\n",
    "vari_4_y = np.dot(vari_3_y, noise_and_blur_array)\n",
    "\n",
    "\n"
   ]
  },
  {
   "cell_type": "code",
   "execution_count": 5,
   "id": "33112a81-de1c-4cae-869d-725e447e31e9",
   "metadata": {},
   "outputs": [
    {
     "name": "stdout",
     "output_type": "stream",
     "text": [
      "[[0.692208  0.181368  0.0891    0.22968   0.5900796]\n",
      " [0.931392  0.6396192 0.437976  0.747648  0.8086716]\n",
      " [0.772596  0.2905848 0.573804  0.408672  0.63954  ]\n",
      " [0.692208  0.181368  0.0891    0.22968   0.5900796]\n",
      " [0.692208  0.181368  0.0891    0.22968   0.5900796]]\n"
     ]
    }
   ],
   "source": [
    "print(vari_4_m)"
   ]
  },
  {
   "cell_type": "code",
   "execution_count": 6,
   "id": "c3eb43b8-536c-4506-b3cd-73c10f75be78",
   "metadata": {},
   "outputs": [],
   "source": [
    "vari_1_m = matrix_list(vari_1_m)\n",
    "vari_2_m = matrix_list(vari_2_m)\n",
    "vari_3_m = matrix_list(vari_3_m)\n",
    "vari_4_m = matrix_list(vari_4_m)\n",
    "\n",
    "vari_1_x = matrix_list(vari_1_x)\n",
    "vari_2_x = matrix_list(vari_2_x)\n",
    "vari_3_x = matrix_list(vari_3_x)\n",
    "vari_4_x = matrix_list(vari_4_x)\n",
    "\n",
    "vari_1_y = matrix_list(vari_1_y)\n",
    "vari_2_y = matrix_list(vari_2_y)\n",
    "vari_3_y = matrix_list(vari_3_y)\n",
    "vari_4_y = matrix_list(vari_4_y)\n",
    "\n"
   ]
  },
  {
   "cell_type": "code",
   "execution_count": 7,
   "id": "1845c685-51cd-4390-8fe2-8fd706acc55e",
   "metadata": {},
   "outputs": [
    {
     "name": "stdout",
     "output_type": "stream",
     "text": [
      "10.703\t8.562\t8.053\t8.446\t5.861\t4.689\t4.484\t4.820\t3.960\t3.168\t3.232\t3.420\n",
      "8.562\t6.850\t6.443\t6.757\t4.689\t3.751\t3.587\t3.856\t3.168\t2.534\t2.585\t2.736\n",
      "8.053\t6.443\t6.114\t6.452\t4.451\t3.561\t3.437\t3.717\t3.160\t2.528\t2.580\t2.733\n",
      "8.446\t6.757\t6.452\t7.031\t4.718\t3.774\t3.668\t4.079\t3.287\t2.630\t2.702\t3.008\n",
      "5.861\t4.689\t4.451\t4.718\t6.488\t5.191\t4.789\t4.554\t3.901\t3.121\t2.974\t2.965\n",
      "4.689\t3.751\t3.561\t3.774\t5.191\t4.152\t3.831\t3.643\t3.121\t2.497\t2.379\t2.372\n",
      "4.484\t3.587\t3.437\t3.668\t4.789\t3.831\t3.570\t3.437\t2.997\t2.398\t2.303\t2.307\n",
      "4.820\t3.856\t3.717\t4.079\t4.554\t3.643\t3.437\t3.540\t2.967\t2.374\t2.315\t2.445\n",
      "3.960\t3.168\t3.160\t3.287\t3.901\t3.121\t2.997\t2.967\t4.861\t3.889\t3.575\t3.308\n",
      "3.168\t2.534\t2.528\t2.630\t3.121\t2.497\t2.398\t2.374\t3.889\t3.111\t2.860\t2.646\n",
      "3.232\t2.585\t2.580\t2.702\t2.974\t2.379\t2.303\t2.315\t3.575\t2.860\t2.661\t2.489\n",
      "3.420\t2.736\t2.733\t3.008\t2.965\t2.372\t2.307\t2.445\t3.308\t2.646\t2.489\t2.489\n"
     ]
    }
   ],
   "source": [
    "variations = [vari_1_m, vari_2_m, vari_3_m, vari_4_m, vari_1_x, vari_2_x, vari_3_x, vari_4_x, vari_1_y, vari_2_y, vari_3_y, vari_4_y]\n",
    "\n",
    "correlation_matrix = np.zeros((len(variations), len(variations)))\n",
    "\n",
    "for i in range(len(variations)):\n",
    "    for j in range(len(variations)):\n",
    "        correlation_matrix[i, j] = np.dot(variations[i], variations[j])\n",
    "\n",
    "for row in correlation_matrix:\n",
    "    print('\\t'.join(f'{value:.3f}' for value in row))"
   ]
  },
  {
   "cell_type": "code",
   "execution_count": 8,
   "id": "e4579cc1-910f-4d63-9dcd-0181028fe88e",
   "metadata": {},
   "outputs": [],
   "source": [
    "m = matrix_list(m)\n",
    "x = matrix_list(x)\n",
    "y = matrix_list(y)"
   ]
  },
  {
   "cell_type": "code",
   "execution_count": 9,
   "id": "9358fad3-cc57-4af0-bc34-a88d278c950a",
   "metadata": {},
   "outputs": [
    {
     "name": "stdout",
     "output_type": "stream",
     "text": [
      "[0.66308879 0.35964138 0.24725345]\n",
      "[0.66308879 0.35964138 0.24725345]\n",
      "[0.65692478 0.35834964 0.25991501]\n",
      "[0.62750049 0.34572901 0.23962029]\n",
      "[0.46190427 0.54851132 0.31755919]\n",
      "[0.46190427 0.54851132 0.31755919]\n",
      "[0.47403942 0.54098095 0.32770213]\n",
      "[0.50050135 0.49367312 0.31398542]\n",
      "[0.36687054 0.36687054 0.48360208]\n",
      "[0.36687054 0.36687054 0.48360208]\n",
      "[0.40253045 0.37413245 0.47780771]\n",
      "[0.42258667 0.37206456 0.43695564]\n"
     ]
    }
   ],
   "source": [
    "NN1 = [m, x, y]\n",
    "NN2 = [m, x, y]\n",
    "scores = []  \n",
    "\n",
    "for variation in variations:\n",
    "    score = np.matmul(NN1, variation)/(np.linalg.norm(NN1) * np.linalg.norm(variation))\n",
    "    scores.append(score)\n",
    "    print(score)"
   ]
  },
  {
   "cell_type": "code",
   "execution_count": 10,
   "id": "1800843e-436b-4427-978f-7530673c9a50",
   "metadata": {},
   "outputs": [
    {
     "data": {
      "image/png": "[encoded data removed]",
      "text/plain": [
       "<Figure size 640x480 with 1 Axes>"
      ]
     },
     "metadata": {},
     "output_type": "display_data"
    }
   ],
   "source": [
    "# Create a bar chart\n",
    "import matplotlib.pyplot as plt\n",
    "\n",
    "m_x_y = ['m', 'x', 'y']\n",
    "labels = ['vari_1_m', 'vari_2_m', 'vari_3_m', 'vari_4_m', 'vari_1_x', 'vari_2_x', 'vari_3_x', 'vari_4_x', 'vari_1_y', 'vari_2_y', 'vari_3_y', 'vari_4_y']\n",
    "scores = np.array(scores).T\n",
    "\n",
    "x = np.arange(len(labels)) * 1.25   \n",
    "width = 0.35 \n",
    "\n",
    "fig, ax = plt.subplots()\n",
    "for i, score in enumerate(scores):\n",
    "    ax.bar(x + i * width, score, width, label=m_x_y[i])\n",
    "\n",
    "ax.set_xlabel('Outputs')\n",
    "ax.set_ylabel('Scores')\n",
    "ax.set_xticks(x + width * (len(scores) - 1) / 2)\n",
    "ax.set_xticklabels(labels)\n",
    "ax.legend()\n",
    "\n",
    "plt.xticks(rotation=45)  \n",
    "plt.tight_layout()\n",
    "plt.show()"
   ]
  },
  {
   "cell_type": "code",
   "execution_count": 11,
   "id": "4e8a2d80-57fe-4dab-9722-7e31ae067d13",
   "metadata": {},
   "outputs": [
    {
     "data": {
      "text/plain": [
       "\"   \\ndef cal_NN2_score(lst):\\n    print(np.matmul(NN2,lst))\\n    print(np.argmax(np.matmul(NN2,lst))'\\n\""
      ]
     },
     "execution_count": 11,
     "metadata": {},
     "output_type": "execute_result"
    }
   ],
   "source": [
    "def cal_score(lst):\n",
    "    print(np.matmul(NN1,lst)/(np.linalg.norm(NN1) * np.linalg.norm(variation)))\n",
    "    print(np.argmax(np.matmul(NN1,lst)/(np.linalg.norm(NN1) * np.linalg.norm(variation))))\n",
    "'''   \n",
    "def cal_NN2_score(lst):\n",
    "    print(np.matmul(NN2,lst))\n",
    "    print(np.argmax(np.matmul(NN2,lst))'\n",
    "'''"
   ]
  },
  {
   "cell_type": "code",
   "execution_count": 12,
   "id": "d7d14997-f10f-4dcf-a9e2-155bd8d497e5",
   "metadata": {},
   "outputs": [
    {
     "name": "stdout",
     "output_type": "stream",
     "text": [
      "[0.63555151 0.42370101 0.2118505 ]\n",
      "0\n",
      "[0.42370101 0.31777575 0.31777575]\n",
      "0\n",
      "[0.2118505  0.31777575 0.2118505 ]\n",
      "1\n",
      "[0.2118505  0.31777575 0.2118505 ]\n",
      "1\n"
     ]
    }
   ],
   "source": [
    "#the first one is correctly recognized, although there is very little difference between \"m\" and \"x\", the rest are all wrong\n",
    "small_m = [0  ,0  ,0  ,0  ,0,\n",
    "           0.9,0  ,0  ,0.9,0,\n",
    "           0.9,0.9,0.9,0.9,0,\n",
    "           0.9,0  ,0  ,0.9,0,\n",
    "           0.9,0  ,0  ,0.9,0]\n",
    "\n",
    "small_x = [0.9,0  ,0.9,0  ,0,\n",
    "           0  ,0.9,0  ,0  ,0,\n",
    "           0.9,0  ,0.9,0  ,0,\n",
    "           0  ,0  ,0  ,0  ,0,\n",
    "           0  ,0  ,0  ,0  ,0]\n",
    "\n",
    "small_y = [0.9,0  ,0.9,0  ,0,\n",
    "           0  ,0.9,0  ,0  ,0,\n",
    "           0  ,0.9,0  ,0  ,0,\n",
    "           0  ,0.9,0  ,0  ,0,\n",
    "           0  ,0  ,0  ,0  ,0]\n",
    "small_y2 = [0  ,0  ,0.9,0  ,0.9,\n",
    "            0  ,0  ,0  ,0.9,  0,\n",
    "            0  ,0  ,0  ,0.9,  0,\n",
    "            0  ,0  ,0  ,0.9,  0,         \n",
    "            0  ,0  ,0  ,0  ,  0]\n",
    "\n",
    "cal_score(small_m)\n",
    "cal_score(small_x)\n",
    "\n",
    "cal_score(small_y)\n",
    "cal_score(small_y2)"
   ]
  },
  {
   "cell_type": "code",
   "execution_count": 13,
   "id": "7ba83bed-69fe-4f2d-9f3a-1e2b0ea72ab9",
   "metadata": {},
   "outputs": [],
   "source": [
    "all_zeros = [0, 0, 0, 0, 0,\n",
    "             0, 0, 0, 0, 0,\n",
    "             0, 0, 0, 0, 0,\n",
    "             0, 0, 0, 0, 0,\n",
    "             0, 0, 0, 0, 0]\n",
    "\n",
    "all_ones = [1, 1, 1, 1, 1,\n",
    "            1, 1, 1, 1, 1,\n",
    "            1, 1, 1, 1, 1,\n",
    "            1, 1, 1, 1, 1,\n",
    "            1, 1, 1, 1, 1]"
   ]
  },
  {
   "cell_type": "code",
   "execution_count": 14,
   "id": "7686215f-af7c-4860-9cb6-5736ad4d7365",
   "metadata": {},
   "outputs": [
    {
     "name": "stdout",
     "output_type": "stream",
     "text": [
      "[0. 0. 0.]\n",
      "0\n",
      "[1.53003141 1.05925251 0.82386307]\n",
      "0\n"
     ]
    }
   ],
   "source": [
    "cal_score(all_zeros)\n",
    "cal_score(all_ones)"
   ]
  },
  {
   "cell_type": "code",
   "execution_count": 15,
   "id": "dbfd0c41-c184-47d7-9531-fa9502ffd743",
   "metadata": {},
   "outputs": [
    {
     "name": "stdout",
     "output_type": "stream",
     "text": [
      "[1.02629799 0.72382255 0.39192343]\n",
      "0\n",
      "[0.57905804 0.5755272  0.48019447]\n",
      "0\n",
      "[0.83092475 0.45194774 0.4260549 ]\n",
      "0\n"
     ]
    }
   ],
   "source": [
    "# changed two pixels\n",
    "change_m =[0.69, 0.18, 0.08, 0.23, 0.59, \n",
    "           0.86, 0.62, 0.32, 0.72, 0.79, \n",
    "           0.75, 0.28, 0.55, 0.39, 0.59, \n",
    "           0.69, 0.8, 0.08, 0.9, 0.59, \n",
    "           0.69, 0.18, 0.08, 0.23, 0.59]\n",
    "#changed one pixels\n",
    "change_x = [0.69, 0.18, 0.08, 0.23, 0.59, \n",
    "            0.18, 0.44, 0.25, 0.49, 0.2, \n",
    "            0.1 , 0.1 , 0.47, 0.16, 0.1, \n",
    "            0.18, 0.44, 0.6, 0.49, 0.2, \n",
    "            0.69, 0.18, 0.8 , 0.23, 0.59]\n",
    "#changed five pixels\n",
    "change_y = [0.69, 0.18, 0.08, 0.23, 0.59, \n",
    "           0.18, 0.44, 0.25, 0.49, 0.2, \n",
    "           0.6, 0.1, 0.47, 0.16, 0.8, \n",
    "           0.9, 0.1, 0.47, 0.16, 0.8, \n",
    "           0.9, 0.1, 0.47, 0.16, 0.0]\n",
    "\n",
    "\n",
    "cal_score(change_m)\n",
    "cal_score(change_x)\n",
    "cal_score(change_y)"
   ]
  },
  {
   "cell_type": "code",
   "execution_count": 16,
   "id": "a4647da3-7dc4-46ff-9674-7b4a31646516",
   "metadata": {},
   "outputs": [
    {
     "name": "stdout",
     "output_type": "stream",
     "text": [
      "[0.58258888 0.58258888 0.58258888]\n",
      "0\n"
     ]
    }
   ],
   "source": [
    "#this input has equal values for all characters\n",
    "x_y_m = [0.99, 0.00, 0.00, 0.00, 0.99, \n",
    "       0.00, 0.99, 0.00, 0.99, 0.00, \n",
    "       0.00, 0.00, 0.99, 0.00, 0.00, \n",
    "       0.00, 0.00, 0.00, 0.00, 0.00, \n",
    "       0.00, 0.00, 0.00, 0.00, 0.00]\n",
    "cal_score(x_y_m)\n",
    "# this input has the common items of all three characters, therefor it has same values for all characters."
   ]
  },
  {
   "cell_type": "code",
   "execution_count": null,
   "id": "68bd2d66-6c6d-47f9-b4f7-5f6fab66ce72",
   "metadata": {},
   "outputs": [],
   "source": []
  }
 ],
 "metadata": {
  "kernelspec": {
   "display_name": "Python 3 (ipykernel)",
   "language": "python",
   "name": "python3"
  },
  "language_info": {
   "codemirror_mode": {
    "name": "ipython",
    "version": 3
   },
   "file_extension": ".py",
   "mimetype": "text/x-python",
   "name": "python",
   "nbconvert_exporter": "python",
   "pygments_lexer": "ipython3",
   "version": "3.9.13"
  }
 },
 "nbformat": 4,
 "nbformat_minor": 5
}
